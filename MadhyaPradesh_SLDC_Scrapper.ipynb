{
 "cells": [
  {
   "cell_type": "code",
   "execution_count": 62,
   "id": "632d2fba",
   "metadata": {},
   "outputs": [],
   "source": [
    "from bs4 import BeautifulSoup as bs\n",
    "import requests\n",
    "from urllib.request import urlretrieve\n",
    "from selenium import webdriver\n",
    "from selenium.webdriver.common.by import By\n",
    "from selenium.webdriver.common.keys import Keys\n"
   ]
  },
  {
   "cell_type": "code",
   "execution_count": 63,
   "id": "3ee9d52d",
   "metadata": {},
   "outputs": [],
   "source": [
    "url = 'http://223.31.122.114:9080/ABT/REDSMEntity.jsp?scr=1024&period=FROM-20-02-2023-TO-26-02-2023&loc=G:\\WEB_FILES\\RE_DSM_FILES\\ISSUEDON_02-08-2023(3)&SCR=1024'"
   ]
  },
  {
   "cell_type": "code",
   "execution_count": 67,
   "id": "34c5d684",
   "metadata": {},
   "outputs": [],
   "source": [
    "result = requests.get(url)\n",
    "doc = bs(result.text,'html.parser')"
   ]
  },
  {
   "cell_type": "code",
   "execution_count": 68,
   "id": "753d08a2",
   "metadata": {},
   "outputs": [],
   "source": [
    "driver = webdriver.Chrome()\n",
    "driver.get(url)\n"
   ]
  },
  {
   "cell_type": "code",
   "execution_count": 69,
   "id": "12235a21",
   "metadata": {},
   "outputs": [],
   "source": [
    "links = doc.find_all('a')\n",
    "for item in links:\n",
    "    data = item.string.rstrip()\n",
    "    data = data.lstrip()\n",
    "    download_button = driver.find_element(By.LINK_TEXT,data)\n",
    "    download_button.click()"
   ]
  },
  {
   "cell_type": "code",
   "execution_count": 60,
   "id": "b5fa4934",
   "metadata": {},
   "outputs": [],
   "source": [
    "driver.quit()\n",
    "print(\"Done\")"
   ]
  },
  {
   "cell_type": "code",
   "execution_count": 4,
   "id": "517605ad",
   "metadata": {},
   "outputs": [
    {
     "name": "stdout",
     "output_type": "stream",
     "text": [
      "Paste Exact URL Link here :- http://223.31.122.114:9080/ABT/REDSMEntity.jsp?scr=1024&period=FROM-20-02-2023-TO-26-02-2023&loc=G:\\WEB_FILES\\RE_DSM_FILES\\ISSUEDON_02-08-2023(3)&SCR=1024\n",
      "Done\n",
      "Download Complete !!! Press any key to exit ... \n"
     ]
    }
   ],
   "source": []
  },
  {
   "cell_type": "code",
   "execution_count": null,
   "id": "04799ee4",
   "metadata": {},
   "outputs": [],
   "source": []
  }
 ],
 "metadata": {
  "kernelspec": {
   "display_name": "Python 3 (ipykernel)",
   "language": "python",
   "name": "python3"
  },
  "language_info": {
   "codemirror_mode": {
    "name": "ipython",
    "version": 3
   },
   "file_extension": ".py",
   "mimetype": "text/x-python",
   "name": "python",
   "nbconvert_exporter": "python",
   "pygments_lexer": "ipython3",
   "version": "3.9.12"
  }
 },
 "nbformat": 4,
 "nbformat_minor": 5
}
